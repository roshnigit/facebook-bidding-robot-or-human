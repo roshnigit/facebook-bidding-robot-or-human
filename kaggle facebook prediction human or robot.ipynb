{
 "cells": [
  {
   "cell_type": "code",
   "execution_count": 1,
   "metadata": {},
   "outputs": [],
   "source": [
    "#Importing libraries for dataframe\n",
    "import numpy as np\n",
    "import pandas as pd\n",
    "#Importing warnings to ignore warnings messages\n",
    "import warnings\n",
    "warnings.filterwarnings('ignore')\n",
    "#Importing library for data visualizations\n",
    "import matplotlib.pyplot as plt\n",
    "import seaborn as sns\n",
    "#Libraries for modelling\n",
    "import sklearn\n",
    "from sklearn.model_selection import train_test_split\n",
    "from sklearn import metrics\n",
    "from sklearn.metrics import classification_report\n",
    "from sklearn.metrics import confusion_matrix\n",
    "from sklearn.metrics import roc_curve, auc\n",
    "from imblearn.over_sampling import SMOTE\n",
    "from sklearn.feature_selection import RFE\n",
    "from sklearn.ensemble import RandomForestClassifier\n",
    "from sklearn.model_selection import cross_val_score\n",
    "from sklearn.linear_model import LogisticRegressionCV\n",
    "from sklearn.model_selection import KFold\n",
    "from sklearn.model_selection import GridSearchCV\n",
    "from sklearn.feature_selection import SelectFromModel\n",
    "from sklearn import tree\n",
    "\n",
    "# for decision tree visualizaiton\n",
    "from sklearn.externals.six import StringIO\n",
    "from IPython.display import Image\n",
    "from sklearn.tree import export_graphviz\n",
    "import pydotplus\n",
    "\n",
    "\n",
    "# for gradient boosting\n",
    "from sklearn.ensemble import GradientBoostingClassifier\n",
    "\n",
    "# for random search\n",
    "from sklearn.ensemble import RandomForestClassifier\n"
   ]
  },
  {
   "cell_type": "markdown",
   "metadata": {},
   "source": [
    "#### Preprocessing of Data"
   ]
  },
  {
   "cell_type": "code",
   "execution_count": 2,
   "metadata": {},
   "outputs": [],
   "source": [
    "# Load Data\n",
    "bidding=pd.read_csv(\"D:\\\\kaggle 4\\\\data\\\\bids.csv\\\\bids.csv\")"
   ]
  },
  {
   "cell_type": "code",
   "execution_count": 3,
   "metadata": {},
   "outputs": [],
   "source": [
    "train_data=pd.read_csv(\"D:\\\\kaggle 4\\\\data\\\\train.csv\\\\train.csv\")"
   ]
  },
  {
   "cell_type": "code",
   "execution_count": 4,
   "metadata": {},
   "outputs": [
    {
     "data": {
      "text/html": [
       "<div>\n",
       "<style scoped>\n",
       "    .dataframe tbody tr th:only-of-type {\n",
       "        vertical-align: middle;\n",
       "    }\n",
       "\n",
       "    .dataframe tbody tr th {\n",
       "        vertical-align: top;\n",
       "    }\n",
       "\n",
       "    .dataframe thead th {\n",
       "        text-align: right;\n",
       "    }\n",
       "</style>\n",
       "<table border=\"1\" class=\"dataframe\">\n",
       "  <thead>\n",
       "    <tr style=\"text-align: right;\">\n",
       "      <th></th>\n",
       "      <th>bid_id</th>\n",
       "      <th>bidder_id</th>\n",
       "      <th>auction</th>\n",
       "      <th>merchandise</th>\n",
       "      <th>device</th>\n",
       "      <th>time</th>\n",
       "      <th>country</th>\n",
       "      <th>ip</th>\n",
       "      <th>url</th>\n",
       "    </tr>\n",
       "  </thead>\n",
       "  <tbody>\n",
       "    <tr>\n",
       "      <td>0</td>\n",
       "      <td>0</td>\n",
       "      <td>8dac2b259fd1c6d1120e519fb1ac14fbqvax8</td>\n",
       "      <td>ewmzr</td>\n",
       "      <td>jewelry</td>\n",
       "      <td>phone0</td>\n",
       "      <td>9759243157894736</td>\n",
       "      <td>us</td>\n",
       "      <td>69.166.231.58</td>\n",
       "      <td>vasstdc27m7nks3</td>\n",
       "    </tr>\n",
       "    <tr>\n",
       "      <td>1</td>\n",
       "      <td>1</td>\n",
       "      <td>668d393e858e8126275433046bbd35c6tywop</td>\n",
       "      <td>aeqok</td>\n",
       "      <td>furniture</td>\n",
       "      <td>phone1</td>\n",
       "      <td>9759243157894736</td>\n",
       "      <td>in</td>\n",
       "      <td>50.201.125.84</td>\n",
       "      <td>jmqlhflrzwuay9c</td>\n",
       "    </tr>\n",
       "    <tr>\n",
       "      <td>2</td>\n",
       "      <td>2</td>\n",
       "      <td>aa5f360084278b35d746fa6af3a7a1a5ra3xe</td>\n",
       "      <td>wa00e</td>\n",
       "      <td>home goods</td>\n",
       "      <td>phone2</td>\n",
       "      <td>9759243157894736</td>\n",
       "      <td>py</td>\n",
       "      <td>112.54.208.157</td>\n",
       "      <td>vasstdc27m7nks3</td>\n",
       "    </tr>\n",
       "    <tr>\n",
       "      <td>3</td>\n",
       "      <td>3</td>\n",
       "      <td>3939ac3ef7d472a59a9c5f893dd3e39fh9ofi</td>\n",
       "      <td>jefix</td>\n",
       "      <td>jewelry</td>\n",
       "      <td>phone4</td>\n",
       "      <td>9759243157894736</td>\n",
       "      <td>in</td>\n",
       "      <td>18.99.175.133</td>\n",
       "      <td>vasstdc27m7nks3</td>\n",
       "    </tr>\n",
       "    <tr>\n",
       "      <td>4</td>\n",
       "      <td>4</td>\n",
       "      <td>8393c48eaf4b8fa96886edc7cf27b372dsibi</td>\n",
       "      <td>jefix</td>\n",
       "      <td>jewelry</td>\n",
       "      <td>phone5</td>\n",
       "      <td>9759243157894736</td>\n",
       "      <td>in</td>\n",
       "      <td>145.138.5.37</td>\n",
       "      <td>vasstdc27m7nks3</td>\n",
       "    </tr>\n",
       "  </tbody>\n",
       "</table>\n",
       "</div>"
      ],
      "text/plain": [
       "   bid_id                              bidder_id auction merchandise  device  \\\n",
       "0       0  8dac2b259fd1c6d1120e519fb1ac14fbqvax8   ewmzr     jewelry  phone0   \n",
       "1       1  668d393e858e8126275433046bbd35c6tywop   aeqok   furniture  phone1   \n",
       "2       2  aa5f360084278b35d746fa6af3a7a1a5ra3xe   wa00e  home goods  phone2   \n",
       "3       3  3939ac3ef7d472a59a9c5f893dd3e39fh9ofi   jefix     jewelry  phone4   \n",
       "4       4  8393c48eaf4b8fa96886edc7cf27b372dsibi   jefix     jewelry  phone5   \n",
       "\n",
       "               time country              ip              url  \n",
       "0  9759243157894736      us   69.166.231.58  vasstdc27m7nks3  \n",
       "1  9759243157894736      in   50.201.125.84  jmqlhflrzwuay9c  \n",
       "2  9759243157894736      py  112.54.208.157  vasstdc27m7nks3  \n",
       "3  9759243157894736      in   18.99.175.133  vasstdc27m7nks3  \n",
       "4  9759243157894736      in    145.138.5.37  vasstdc27m7nks3  "
      ]
     },
     "execution_count": 4,
     "metadata": {},
     "output_type": "execute_result"
    }
   ],
   "source": [
    "bidding.head()"
   ]
  },
  {
   "cell_type": "code",
   "execution_count": 5,
   "metadata": {},
   "outputs": [
    {
     "data": {
      "text/html": [
       "<div>\n",
       "<style scoped>\n",
       "    .dataframe tbody tr th:only-of-type {\n",
       "        vertical-align: middle;\n",
       "    }\n",
       "\n",
       "    .dataframe tbody tr th {\n",
       "        vertical-align: top;\n",
       "    }\n",
       "\n",
       "    .dataframe thead th {\n",
       "        text-align: right;\n",
       "    }\n",
       "</style>\n",
       "<table border=\"1\" class=\"dataframe\">\n",
       "  <thead>\n",
       "    <tr style=\"text-align: right;\">\n",
       "      <th></th>\n",
       "      <th>bidder_id</th>\n",
       "      <th>payment_account</th>\n",
       "      <th>address</th>\n",
       "      <th>outcome</th>\n",
       "    </tr>\n",
       "  </thead>\n",
       "  <tbody>\n",
       "    <tr>\n",
       "      <td>0</td>\n",
       "      <td>91a3c57b13234af24875c56fb7e2b2f4rb56a</td>\n",
       "      <td>a3d2de7675556553a5f08e4c88d2c228754av</td>\n",
       "      <td>a3d2de7675556553a5f08e4c88d2c228vt0u4</td>\n",
       "      <td>0.0</td>\n",
       "    </tr>\n",
       "    <tr>\n",
       "      <td>1</td>\n",
       "      <td>624f258b49e77713fc34034560f93fb3hu3jo</td>\n",
       "      <td>a3d2de7675556553a5f08e4c88d2c228v1sga</td>\n",
       "      <td>ae87054e5a97a8f840a3991d12611fdcrfbq3</td>\n",
       "      <td>0.0</td>\n",
       "    </tr>\n",
       "    <tr>\n",
       "      <td>2</td>\n",
       "      <td>1c5f4fc669099bfbfac515cd26997bd12ruaj</td>\n",
       "      <td>a3d2de7675556553a5f08e4c88d2c2280cybl</td>\n",
       "      <td>92520288b50f03907041887884ba49c0cl0pd</td>\n",
       "      <td>0.0</td>\n",
       "    </tr>\n",
       "    <tr>\n",
       "      <td>3</td>\n",
       "      <td>4bee9aba2abda51bf43d639013d6efe12iycd</td>\n",
       "      <td>51d80e233f7b6a7dfdee484a3c120f3b2ita8</td>\n",
       "      <td>4cb9717c8ad7e88a9a284989dd79b98dbevyi</td>\n",
       "      <td>0.0</td>\n",
       "    </tr>\n",
       "    <tr>\n",
       "      <td>4</td>\n",
       "      <td>4ab12bc61c82ddd9c2d65e60555808acqgos1</td>\n",
       "      <td>a3d2de7675556553a5f08e4c88d2c22857ddh</td>\n",
       "      <td>2a96c3ce94b3be921e0296097b88b56a7x1ji</td>\n",
       "      <td>0.0</td>\n",
       "    </tr>\n",
       "  </tbody>\n",
       "</table>\n",
       "</div>"
      ],
      "text/plain": [
       "                               bidder_id  \\\n",
       "0  91a3c57b13234af24875c56fb7e2b2f4rb56a   \n",
       "1  624f258b49e77713fc34034560f93fb3hu3jo   \n",
       "2  1c5f4fc669099bfbfac515cd26997bd12ruaj   \n",
       "3  4bee9aba2abda51bf43d639013d6efe12iycd   \n",
       "4  4ab12bc61c82ddd9c2d65e60555808acqgos1   \n",
       "\n",
       "                         payment_account  \\\n",
       "0  a3d2de7675556553a5f08e4c88d2c228754av   \n",
       "1  a3d2de7675556553a5f08e4c88d2c228v1sga   \n",
       "2  a3d2de7675556553a5f08e4c88d2c2280cybl   \n",
       "3  51d80e233f7b6a7dfdee484a3c120f3b2ita8   \n",
       "4  a3d2de7675556553a5f08e4c88d2c22857ddh   \n",
       "\n",
       "                                 address  outcome  \n",
       "0  a3d2de7675556553a5f08e4c88d2c228vt0u4      0.0  \n",
       "1  ae87054e5a97a8f840a3991d12611fdcrfbq3      0.0  \n",
       "2  92520288b50f03907041887884ba49c0cl0pd      0.0  \n",
       "3  4cb9717c8ad7e88a9a284989dd79b98dbevyi      0.0  \n",
       "4  2a96c3ce94b3be921e0296097b88b56a7x1ji      0.0  "
      ]
     },
     "execution_count": 5,
     "metadata": {},
     "output_type": "execute_result"
    }
   ],
   "source": [
    "train_data.head()"
   ]
  },
  {
   "cell_type": "code",
   "execution_count": 6,
   "metadata": {},
   "outputs": [],
   "source": [
    "#join the data sets\n",
    "bidjoin = pd.merge(train_data, bidding, on='bidder_id', how='left')\n"
   ]
  },
  {
   "cell_type": "code",
   "execution_count": 7,
   "metadata": {},
   "outputs": [
    {
     "data": {
      "text/html": [
       "<div>\n",
       "<style scoped>\n",
       "    .dataframe tbody tr th:only-of-type {\n",
       "        vertical-align: middle;\n",
       "    }\n",
       "\n",
       "    .dataframe tbody tr th {\n",
       "        vertical-align: top;\n",
       "    }\n",
       "\n",
       "    .dataframe thead th {\n",
       "        text-align: right;\n",
       "    }\n",
       "</style>\n",
       "<table border=\"1\" class=\"dataframe\">\n",
       "  <thead>\n",
       "    <tr style=\"text-align: right;\">\n",
       "      <th></th>\n",
       "      <th>bidder_id</th>\n",
       "      <th>payment_account</th>\n",
       "      <th>address</th>\n",
       "      <th>outcome</th>\n",
       "      <th>bid_id</th>\n",
       "      <th>auction</th>\n",
       "      <th>merchandise</th>\n",
       "      <th>device</th>\n",
       "      <th>time</th>\n",
       "      <th>country</th>\n",
       "      <th>ip</th>\n",
       "      <th>url</th>\n",
       "    </tr>\n",
       "  </thead>\n",
       "  <tbody>\n",
       "    <tr>\n",
       "      <td>0</td>\n",
       "      <td>91a3c57b13234af24875c56fb7e2b2f4rb56a</td>\n",
       "      <td>a3d2de7675556553a5f08e4c88d2c228754av</td>\n",
       "      <td>a3d2de7675556553a5f08e4c88d2c228vt0u4</td>\n",
       "      <td>0.0</td>\n",
       "      <td>85371.0</td>\n",
       "      <td>yitr4</td>\n",
       "      <td>home goods</td>\n",
       "      <td>phone35</td>\n",
       "      <td>9.759489e+15</td>\n",
       "      <td>ke</td>\n",
       "      <td>82.34.177.248</td>\n",
       "      <td>vasstdc27m7nks3</td>\n",
       "    </tr>\n",
       "    <tr>\n",
       "      <td>1</td>\n",
       "      <td>91a3c57b13234af24875c56fb7e2b2f4rb56a</td>\n",
       "      <td>a3d2de7675556553a5f08e4c88d2c228754av</td>\n",
       "      <td>a3d2de7675556553a5f08e4c88d2c228vt0u4</td>\n",
       "      <td>0.0</td>\n",
       "      <td>274487.0</td>\n",
       "      <td>btpyy</td>\n",
       "      <td>home goods</td>\n",
       "      <td>phone1004</td>\n",
       "      <td>9.760249e+15</td>\n",
       "      <td>zm</td>\n",
       "      <td>202.130.71.167</td>\n",
       "      <td>vasstdc27m7nks3</td>\n",
       "    </tr>\n",
       "    <tr>\n",
       "      <td>2</td>\n",
       "      <td>91a3c57b13234af24875c56fb7e2b2f4rb56a</td>\n",
       "      <td>a3d2de7675556553a5f08e4c88d2c228754av</td>\n",
       "      <td>a3d2de7675556553a5f08e4c88d2c228vt0u4</td>\n",
       "      <td>0.0</td>\n",
       "      <td>527436.0</td>\n",
       "      <td>kj2ko</td>\n",
       "      <td>home goods</td>\n",
       "      <td>phone4</td>\n",
       "      <td>9.762261e+15</td>\n",
       "      <td>ke</td>\n",
       "      <td>22.54.76.225</td>\n",
       "      <td>vasstdc27m7nks3</td>\n",
       "    </tr>\n",
       "    <tr>\n",
       "      <td>3</td>\n",
       "      <td>91a3c57b13234af24875c56fb7e2b2f4rb56a</td>\n",
       "      <td>a3d2de7675556553a5f08e4c88d2c228754av</td>\n",
       "      <td>a3d2de7675556553a5f08e4c88d2c228vt0u4</td>\n",
       "      <td>0.0</td>\n",
       "      <td>554135.0</td>\n",
       "      <td>1m5t8</td>\n",
       "      <td>home goods</td>\n",
       "      <td>phone4</td>\n",
       "      <td>9.762431e+15</td>\n",
       "      <td>ke</td>\n",
       "      <td>32.13.237.126</td>\n",
       "      <td>vasstdc27m7nks3</td>\n",
       "    </tr>\n",
       "    <tr>\n",
       "      <td>4</td>\n",
       "      <td>91a3c57b13234af24875c56fb7e2b2f4rb56a</td>\n",
       "      <td>a3d2de7675556553a5f08e4c88d2c228754av</td>\n",
       "      <td>a3d2de7675556553a5f08e4c88d2c228vt0u4</td>\n",
       "      <td>0.0</td>\n",
       "      <td>607628.0</td>\n",
       "      <td>btpyy</td>\n",
       "      <td>home goods</td>\n",
       "      <td>phone4</td>\n",
       "      <td>9.762789e+15</td>\n",
       "      <td>ke</td>\n",
       "      <td>202.236.188.240</td>\n",
       "      <td>vasstdc27m7nks3</td>\n",
       "    </tr>\n",
       "  </tbody>\n",
       "</table>\n",
       "</div>"
      ],
      "text/plain": [
       "                               bidder_id  \\\n",
       "0  91a3c57b13234af24875c56fb7e2b2f4rb56a   \n",
       "1  91a3c57b13234af24875c56fb7e2b2f4rb56a   \n",
       "2  91a3c57b13234af24875c56fb7e2b2f4rb56a   \n",
       "3  91a3c57b13234af24875c56fb7e2b2f4rb56a   \n",
       "4  91a3c57b13234af24875c56fb7e2b2f4rb56a   \n",
       "\n",
       "                         payment_account  \\\n",
       "0  a3d2de7675556553a5f08e4c88d2c228754av   \n",
       "1  a3d2de7675556553a5f08e4c88d2c228754av   \n",
       "2  a3d2de7675556553a5f08e4c88d2c228754av   \n",
       "3  a3d2de7675556553a5f08e4c88d2c228754av   \n",
       "4  a3d2de7675556553a5f08e4c88d2c228754av   \n",
       "\n",
       "                                 address  outcome    bid_id auction  \\\n",
       "0  a3d2de7675556553a5f08e4c88d2c228vt0u4      0.0   85371.0   yitr4   \n",
       "1  a3d2de7675556553a5f08e4c88d2c228vt0u4      0.0  274487.0   btpyy   \n",
       "2  a3d2de7675556553a5f08e4c88d2c228vt0u4      0.0  527436.0   kj2ko   \n",
       "3  a3d2de7675556553a5f08e4c88d2c228vt0u4      0.0  554135.0   1m5t8   \n",
       "4  a3d2de7675556553a5f08e4c88d2c228vt0u4      0.0  607628.0   btpyy   \n",
       "\n",
       "  merchandise     device          time country               ip  \\\n",
       "0  home goods    phone35  9.759489e+15      ke    82.34.177.248   \n",
       "1  home goods  phone1004  9.760249e+15      zm   202.130.71.167   \n",
       "2  home goods     phone4  9.762261e+15      ke     22.54.76.225   \n",
       "3  home goods     phone4  9.762431e+15      ke    32.13.237.126   \n",
       "4  home goods     phone4  9.762789e+15      ke  202.236.188.240   \n",
       "\n",
       "               url  \n",
       "0  vasstdc27m7nks3  \n",
       "1  vasstdc27m7nks3  \n",
       "2  vasstdc27m7nks3  \n",
       "3  vasstdc27m7nks3  \n",
       "4  vasstdc27m7nks3  "
      ]
     },
     "execution_count": 7,
     "metadata": {},
     "output_type": "execute_result"
    }
   ],
   "source": [
    "bidjoin.head()"
   ]
  },
  {
   "cell_type": "code",
   "execution_count": 8,
   "metadata": {},
   "outputs": [
    {
     "data": {
      "text/plain": [
       "bidder_id          False\n",
       "payment_account    False\n",
       "address            False\n",
       "outcome            False\n",
       "bid_id              True\n",
       "auction             True\n",
       "merchandise         True\n",
       "device              True\n",
       "time                True\n",
       "country             True\n",
       "ip                  True\n",
       "url                 True\n",
       "dtype: bool"
      ]
     },
     "execution_count": 8,
     "metadata": {},
     "output_type": "execute_result"
    }
   ],
   "source": [
    "#check missing values\n",
    "pd.isnull(bidjoin).any()"
   ]
  },
  {
   "cell_type": "code",
   "execution_count": 9,
   "metadata": {},
   "outputs": [
    {
     "data": {
      "text/plain": [
       "29"
      ]
     },
     "execution_count": 9,
     "metadata": {},
     "output_type": "execute_result"
    }
   ],
   "source": [
    "#find no of unique values of bid ids\n",
    "len(bidjoin[pd.isnull(bidjoin['bid_id'])]['bidder_id'].unique())"
   ]
  },
  {
   "cell_type": "code",
   "execution_count": 10,
   "metadata": {},
   "outputs": [
    {
     "data": {
      "text/plain": [
       "17583      0.0\n",
       "42424      0.0\n",
       "129439     0.0\n",
       "214915     0.0\n",
       "221776     0.0\n",
       "226432     0.0\n",
       "255107     0.0\n",
       "305088     0.0\n",
       "333331     0.0\n",
       "409451     0.0\n",
       "654549     0.0\n",
       "657208     0.0\n",
       "788183     0.0\n",
       "790914     0.0\n",
       "794927     0.0\n",
       "810369     0.0\n",
       "883351     0.0\n",
       "1018748    0.0\n",
       "1019599    0.0\n",
       "1021349    0.0\n",
       "1123023    0.0\n",
       "1139921    0.0\n",
       "1217466    0.0\n",
       "1465813    0.0\n",
       "1482542    0.0\n",
       "1648201    0.0\n",
       "1974826    0.0\n",
       "2139077    0.0\n",
       "2999380    0.0\n",
       "Name: outcome, dtype: float64"
      ]
     },
     "execution_count": 10,
     "metadata": {},
     "output_type": "execute_result"
    }
   ],
   "source": [
    "bidjoin[bidjoin['bidder_id'].isin(bidjoin[pd.isnull(bidjoin['bid_id'])]['bidder_id'].unique())]['outcome']\n"
   ]
  },
  {
   "cell_type": "markdown",
   "metadata": {},
   "source": [
    "they are all human when checked the outcome, hence ignoring the data with no details of bids\n"
   ]
  },
  {
   "cell_type": "code",
   "execution_count": 11,
   "metadata": {},
   "outputs": [],
   "source": [
    "# dropping the missing value\n",
    "bid = bidjoin[~bidjoin['bidder_id'].isin(bidjoin[pd.isnull(bidjoin['bid_id'])]['bidder_id'].unique())]"
   ]
  },
  {
   "cell_type": "code",
   "execution_count": 12,
   "metadata": {},
   "outputs": [
    {
     "data": {
      "text/plain": [
       "bidder_id          False\n",
       "payment_account    False\n",
       "address            False\n",
       "outcome            False\n",
       "bid_id             False\n",
       "auction            False\n",
       "merchandise        False\n",
       "device             False\n",
       "time               False\n",
       "country             True\n",
       "ip                 False\n",
       "url                False\n",
       "dtype: bool"
      ]
     },
     "execution_count": 12,
     "metadata": {},
     "output_type": "execute_result"
    }
   ],
   "source": [
    "pd.isnull(bid).any()"
   ]
  },
  {
   "cell_type": "code",
   "execution_count": 13,
   "metadata": {},
   "outputs": [
    {
     "name": "stdout",
     "output_type": "stream",
     "text": [
      " 0.09 % observations missing country entry.\n"
     ]
    }
   ],
   "source": [
    "#check missing entries of country column\n",
    "missratio = pd.isnull(bid['country']).sum()/len(bid)*100\n",
    "print(f\" %0.2f %% observations missing country entry.\" %\n",
    "      float(missratio))"
   ]
  },
  {
   "cell_type": "code",
   "execution_count": 14,
   "metadata": {},
   "outputs": [],
   "source": [
    "#drop null values\n",
    "bid = bid.dropna()"
   ]
  },
  {
   "cell_type": "code",
   "execution_count": 15,
   "metadata": {},
   "outputs": [
    {
     "data": {
      "text/plain": [
       "bidder_id          False\n",
       "payment_account    False\n",
       "address            False\n",
       "outcome            False\n",
       "bid_id             False\n",
       "auction            False\n",
       "merchandise        False\n",
       "device             False\n",
       "time               False\n",
       "country            False\n",
       "ip                 False\n",
       "url                False\n",
       "dtype: bool"
      ]
     },
     "execution_count": 15,
     "metadata": {},
     "output_type": "execute_result"
    }
   ],
   "source": [
    "# double check the missing value\n",
    "pd.isnull(bid).any()"
   ]
  },
  {
   "cell_type": "markdown",
   "metadata": {},
   "source": [
    "#### Data Exploration"
   ]
  },
  {
   "cell_type": "code",
   "execution_count": 16,
   "metadata": {},
   "outputs": [
    {
     "name": "stdout",
     "output_type": "stream",
     "text": [
      "total row in bid:          3068523\n",
      "total bids in bid:         3068523\n",
      "total bidder in bids:      1983\n",
      "total payment in bids:     1983\n",
      "total address in bids:     1983\n",
      "total auction in bids:     12740\n",
      "total merchandise in bids: 10\n",
      "total device in bids:      5726\n",
      "total country in bids:     198\n",
      "total ip in bids:          1028810\n",
      "total url in bids:         663265\n"
     ]
    }
   ],
   "source": [
    "# check the unique number of each feature\n",
    "print(f\"total row in bid:          {len(bid)}\")\n",
    "print(f\"total bids in bid:         {len(bid['bid_id'].unique())}\")\n",
    "print(f\"total bidder in bids:      {len(bid['bidder_id'].unique())}\")\n",
    "print(f\"total payment in bids:     {len(bid['payment_account'].unique())}\")\n",
    "print(f\"total address in bids:     {len(bid['address'].unique())}\")\n",
    "print(f\"total auction in bids:     {len(bid['auction'].unique())}\")\n",
    "print(f\"total merchandise in bids: {len(bid['merchandise'].unique())}\")\n",
    "print(f\"total device in bids:      {len(bid['device'].unique())}\")\n",
    "print(f\"total country in bids:     {len(bid['country'].unique())}\")\n",
    "print(f\"total ip in bids:          {len(bid['ip'].unique())}\")\n",
    "print(f\"total url in bids:         {len(bid['url'].unique())}\")"
   ]
  },
  {
   "cell_type": "code",
   "execution_count": 17,
   "metadata": {},
   "outputs": [],
   "source": [
    "a=len(bid[bid['outcome'] == 1])"
   ]
  },
  {
   "cell_type": "code",
   "execution_count": 18,
   "metadata": {},
   "outputs": [
    {
     "data": {
      "text/plain": [
       "412153"
      ]
     },
     "execution_count": 18,
     "metadata": {},
     "output_type": "execute_result"
    }
   ],
   "source": [
    "a"
   ]
  },
  {
   "cell_type": "code",
   "execution_count": 19,
   "metadata": {},
   "outputs": [],
   "source": [
    "b=len(bid[bid['outcome'] == 0])"
   ]
  },
  {
   "cell_type": "code",
   "execution_count": 20,
   "metadata": {},
   "outputs": [
    {
     "name": "stdout",
     "output_type": "stream",
     "text": [
      "total bids made by robots in data set: 412153\n",
      "total bids made by human in data set:  2656370\n",
      "the ratio of made by robot vs. bids made by human in data set:0.15515647293110524  \n"
     ]
    }
   ],
   "source": [
    "print(\n",
    "    f\"total bids made by robots in data set: {a}\")\n",
    "print(\n",
    "    f\"total bids made by human in data set:  {b}\")\n",
    "print(f\"the ratio of made by robot vs. bids made by human in data set:{a/b}  \")"
   ]
  },
  {
   "cell_type": "markdown",
   "metadata": {},
   "source": [
    "#### Feature Engineering\n"
   ]
  },
  {
   "cell_type": "code",
   "execution_count": 21,
   "metadata": {},
   "outputs": [],
   "source": [
    "def entropy(bidjoin):\n",
    "    \"\"\"\n",
    "    Calculate the entropy\n",
    "\n",
    "    Parameters\n",
    "    ----------\n",
    "    data : dataframe\n",
    "        a DataFrame containing original data\n",
    "\n",
    "    Returns\n",
    "    -------\n",
    "    output: float\n",
    "        computed entropy \n",
    "\n",
    "    Notes\n",
    "    -----\n",
    "    entropy is calculated with the following steps:\n",
    "        1. compute the probabilities\n",
    "        2. fit in the entropy formula\n",
    "    \"\"\"\n",
    "    entdata = bidjoin.value_counts()/len(bidjoin)  # calculates the probabilities\n",
    "    # input probabilities to get the entropy\n",
    "    entropy = scipy.stats.entropy(entdata)\n",
    "    return entropy"
   ]
  },
  {
   "cell_type": "code",
   "execution_count": 22,
   "metadata": {},
   "outputs": [],
   "source": [
    "bid = bid.sort_values(by=['time'])\n",
    "bid['timediffs'] = bid.groupby('bidder_id')['time'].transform(pd.Series.diff)\n"
   ]
  },
  {
   "cell_type": "code",
   "execution_count": 23,
   "metadata": {},
   "outputs": [],
   "source": [
    "# number of bids a user made per auction\n",
    "bids_per_auction = bid.groupby(['auction', 'bidder_id']).size()\n",
    "bids_per_auction = bids_per_auction.to_frame()\n"
   ]
  },
  {
   "cell_type": "code",
   "execution_count": 24,
   "metadata": {},
   "outputs": [],
   "source": [
    "# proportion of bots for each country\n",
    "pbots_country = bid[bid['outcome'] == 1].groupby(\n",
    "    'country').size()/bid.groupby('country').size()\n",
    "pbots_country = pbots_country.fillna(0)\n",
    "pbots_country = pbots_country.to_frame()\n"
   ]
  },
  {
   "cell_type": "code",
   "execution_count": 25,
   "metadata": {},
   "outputs": [],
   "source": [
    "# proportion of bots per device\n",
    "pbots_device = bid[bid['outcome'] == 1].groupby(\n",
    "    'device').size()/bid.groupby('device').size()\n",
    "pbots_device = pbots_device.fillna(0)\n",
    "pbots_device = pbots_device.to_frame()\n"
   ]
  },
  {
   "cell_type": "code",
   "execution_count": 26,
   "metadata": {},
   "outputs": [],
   "source": [
    "# number of unique ip to number of bids ratio\n",
    "ip_bids_ratio = bid.groupby('bidder_id')['ip'].nunique(\n",
    ")/bid.groupby('bidder_id')['bid_id'].nunique()\n",
    "ip_bids_ratio = ip_bids_ratio.to_frame()\n"
   ]
  },
  {
   "cell_type": "code",
   "execution_count": 27,
   "metadata": {},
   "outputs": [],
   "source": [
    "\n",
    "# for feature engineering\n",
    "import time\n",
    "import datetime\n",
    "import scipy.stats\n",
    "# mean per auction url entropy for each user\n",
    "# Input a pandas series\n",
    "auction_url_entropy = bid.groupby(['auction', 'bidder_id'])['url'].apply(entropy)\n",
    "auction_url_entropy = auction_url_entropy.groupby(\n",
    "    'bidder_id').mean().reset_index()"
   ]
  },
  {
   "cell_type": "code",
   "execution_count": 28,
   "metadata": {},
   "outputs": [],
   "source": [
    "bid = pd.merge(bid, bids_per_auction, on=['auction', 'bidder_id'], how='left')"
   ]
  },
  {
   "cell_type": "code",
   "execution_count": 29,
   "metadata": {},
   "outputs": [],
   "source": [
    "bid = pd.merge(bid, pbots_country, on='country', how='left')"
   ]
  },
  {
   "cell_type": "code",
   "execution_count": 30,
   "metadata": {},
   "outputs": [],
   "source": [
    "bid = pd.merge(bid, pbots_device, on='device', how='left')"
   ]
  },
  {
   "cell_type": "code",
   "execution_count": 31,
   "metadata": {},
   "outputs": [],
   "source": [
    "bid = pd.merge(bid, ip_bids_ratio, on='bidder_id', how='left')"
   ]
  },
  {
   "cell_type": "code",
   "execution_count": 32,
   "metadata": {},
   "outputs": [],
   "source": [
    "bid = pd.merge(bid, auction_url_entropy, on='bidder_id', how='left')"
   ]
  },
  {
   "cell_type": "code",
   "execution_count": 33,
   "metadata": {},
   "outputs": [
    {
     "data": {
      "text/plain": [
       "(3068523, 18)"
      ]
     },
     "execution_count": 33,
     "metadata": {},
     "output_type": "execute_result"
    }
   ],
   "source": [
    "bid.shape"
   ]
  },
  {
   "cell_type": "code",
   "execution_count": 34,
   "metadata": {},
   "outputs": [],
   "source": [
    "# set column names\n",
    "bid.columns = ['bidder_id', 'payment_account', 'address', 'outcome',\n",
    "               'bid_id', 'auction', 'merchandise', 'device', 'time', 'country',\n",
    "               'ip', 'url', 'timediffs', 'bids_per_auction', 'pbots_country', 'pbots_device',\n",
    "               'ip_bids_ratio', 'auction_url_entropy']"
   ]
  },
  {
   "cell_type": "code",
   "execution_count": 35,
   "metadata": {},
   "outputs": [
    {
     "data": {
      "text/html": [
       "<div>\n",
       "<style scoped>\n",
       "    .dataframe tbody tr th:only-of-type {\n",
       "        vertical-align: middle;\n",
       "    }\n",
       "\n",
       "    .dataframe tbody tr th {\n",
       "        vertical-align: top;\n",
       "    }\n",
       "\n",
       "    .dataframe thead th {\n",
       "        text-align: right;\n",
       "    }\n",
       "</style>\n",
       "<table border=\"1\" class=\"dataframe\">\n",
       "  <thead>\n",
       "    <tr style=\"text-align: right;\">\n",
       "      <th></th>\n",
       "      <th>outcome</th>\n",
       "      <th>timediffs</th>\n",
       "      <th>bids_per_auction</th>\n",
       "      <th>pbots_country</th>\n",
       "      <th>pbots_device</th>\n",
       "      <th>ip_bids_ratio</th>\n",
       "      <th>auction_url_entropy</th>\n",
       "    </tr>\n",
       "  </thead>\n",
       "  <tbody>\n",
       "    <tr>\n",
       "      <td>0</td>\n",
       "      <td>0.0</td>\n",
       "      <td>NaN</td>\n",
       "      <td>368</td>\n",
       "      <td>0.089199</td>\n",
       "      <td>0.020161</td>\n",
       "      <td>0.178624</td>\n",
       "      <td>1.463760</td>\n",
       "    </tr>\n",
       "    <tr>\n",
       "      <td>1</td>\n",
       "      <td>0.0</td>\n",
       "      <td>NaN</td>\n",
       "      <td>15452</td>\n",
       "      <td>0.177281</td>\n",
       "      <td>0.055360</td>\n",
       "      <td>0.583490</td>\n",
       "      <td>0.885604</td>\n",
       "    </tr>\n",
       "    <tr>\n",
       "      <td>2</td>\n",
       "      <td>0.0</td>\n",
       "      <td>NaN</td>\n",
       "      <td>2386</td>\n",
       "      <td>0.095494</td>\n",
       "      <td>0.065255</td>\n",
       "      <td>0.461730</td>\n",
       "      <td>0.809338</td>\n",
       "    </tr>\n",
       "    <tr>\n",
       "      <td>3</td>\n",
       "      <td>0.0</td>\n",
       "      <td>NaN</td>\n",
       "      <td>851</td>\n",
       "      <td>0.133801</td>\n",
       "      <td>0.056095</td>\n",
       "      <td>0.196636</td>\n",
       "      <td>1.747853</td>\n",
       "    </tr>\n",
       "    <tr>\n",
       "      <td>4</td>\n",
       "      <td>0.0</td>\n",
       "      <td>0.000000e+00</td>\n",
       "      <td>12</td>\n",
       "      <td>0.035496</td>\n",
       "      <td>0.009222</td>\n",
       "      <td>0.196636</td>\n",
       "      <td>1.747853</td>\n",
       "    </tr>\n",
       "    <tr>\n",
       "      <td>...</td>\n",
       "      <td>...</td>\n",
       "      <td>...</td>\n",
       "      <td>...</td>\n",
       "      <td>...</td>\n",
       "      <td>...</td>\n",
       "      <td>...</td>\n",
       "      <td>...</td>\n",
       "    </tr>\n",
       "    <tr>\n",
       "      <td>3068518</td>\n",
       "      <td>0.0</td>\n",
       "      <td>6.789474e+09</td>\n",
       "      <td>125</td>\n",
       "      <td>0.133801</td>\n",
       "      <td>0.074079</td>\n",
       "      <td>0.745783</td>\n",
       "      <td>1.024255</td>\n",
       "    </tr>\n",
       "    <tr>\n",
       "      <td>3068519</td>\n",
       "      <td>1.0</td>\n",
       "      <td>4.736842e+08</td>\n",
       "      <td>71</td>\n",
       "      <td>0.526785</td>\n",
       "      <td>0.459696</td>\n",
       "      <td>0.002967</td>\n",
       "      <td>1.961490</td>\n",
       "    </tr>\n",
       "    <tr>\n",
       "      <td>3068520</td>\n",
       "      <td>0.0</td>\n",
       "      <td>1.368421e+09</td>\n",
       "      <td>55</td>\n",
       "      <td>0.133801</td>\n",
       "      <td>0.045936</td>\n",
       "      <td>0.705550</td>\n",
       "      <td>0.994924</td>\n",
       "    </tr>\n",
       "    <tr>\n",
       "      <td>3068521</td>\n",
       "      <td>0.0</td>\n",
       "      <td>2.473684e+09</td>\n",
       "      <td>25</td>\n",
       "      <td>0.133801</td>\n",
       "      <td>0.086277</td>\n",
       "      <td>0.710759</td>\n",
       "      <td>0.017290</td>\n",
       "    </tr>\n",
       "    <tr>\n",
       "      <td>3068522</td>\n",
       "      <td>0.0</td>\n",
       "      <td>3.684211e+08</td>\n",
       "      <td>191</td>\n",
       "      <td>0.117633</td>\n",
       "      <td>0.079448</td>\n",
       "      <td>0.523364</td>\n",
       "      <td>0.938996</td>\n",
       "    </tr>\n",
       "  </tbody>\n",
       "</table>\n",
       "<p>3068523 rows × 7 columns</p>\n",
       "</div>"
      ],
      "text/plain": [
       "         outcome     timediffs  bids_per_auction  pbots_country  pbots_device  \\\n",
       "0            0.0           NaN               368       0.089199      0.020161   \n",
       "1            0.0           NaN             15452       0.177281      0.055360   \n",
       "2            0.0           NaN              2386       0.095494      0.065255   \n",
       "3            0.0           NaN               851       0.133801      0.056095   \n",
       "4            0.0  0.000000e+00                12       0.035496      0.009222   \n",
       "...          ...           ...               ...            ...           ...   \n",
       "3068518      0.0  6.789474e+09               125       0.133801      0.074079   \n",
       "3068519      1.0  4.736842e+08                71       0.526785      0.459696   \n",
       "3068520      0.0  1.368421e+09                55       0.133801      0.045936   \n",
       "3068521      0.0  2.473684e+09                25       0.133801      0.086277   \n",
       "3068522      0.0  3.684211e+08               191       0.117633      0.079448   \n",
       "\n",
       "         ip_bids_ratio  auction_url_entropy  \n",
       "0             0.178624             1.463760  \n",
       "1             0.583490             0.885604  \n",
       "2             0.461730             0.809338  \n",
       "3             0.196636             1.747853  \n",
       "4             0.196636             1.747853  \n",
       "...                ...                  ...  \n",
       "3068518       0.745783             1.024255  \n",
       "3068519       0.002967             1.961490  \n",
       "3068520       0.705550             0.994924  \n",
       "3068521       0.710759             0.017290  \n",
       "3068522       0.523364             0.938996  \n",
       "\n",
       "[3068523 rows x 7 columns]"
      ]
     },
     "execution_count": 35,
     "metadata": {},
     "output_type": "execute_result"
    }
   ],
   "source": [
    "bid = pd.concat([bid.iloc[:, 3], bid.iloc[:, -6:]], axis=1)\n",
    "bid"
   ]
  },
  {
   "cell_type": "code",
   "execution_count": 36,
   "metadata": {},
   "outputs": [
    {
     "data": {
      "text/html": [
       "<div>\n",
       "<style scoped>\n",
       "    .dataframe tbody tr th:only-of-type {\n",
       "        vertical-align: middle;\n",
       "    }\n",
       "\n",
       "    .dataframe tbody tr th {\n",
       "        vertical-align: top;\n",
       "    }\n",
       "\n",
       "    .dataframe thead th {\n",
       "        text-align: right;\n",
       "    }\n",
       "</style>\n",
       "<table border=\"1\" class=\"dataframe\">\n",
       "  <thead>\n",
       "    <tr style=\"text-align: right;\">\n",
       "      <th></th>\n",
       "      <th>timediffs</th>\n",
       "      <th>bids_per_auction</th>\n",
       "      <th>pbots_country</th>\n",
       "      <th>pbots_device</th>\n",
       "      <th>ip_bids_ratio</th>\n",
       "      <th>auction_url_entropy</th>\n",
       "    </tr>\n",
       "  </thead>\n",
       "  <tbody>\n",
       "    <tr>\n",
       "      <td>0</td>\n",
       "      <td>NaN</td>\n",
       "      <td>368</td>\n",
       "      <td>0.089199</td>\n",
       "      <td>0.020161</td>\n",
       "      <td>0.178624</td>\n",
       "      <td>1.463760</td>\n",
       "    </tr>\n",
       "    <tr>\n",
       "      <td>1</td>\n",
       "      <td>NaN</td>\n",
       "      <td>15452</td>\n",
       "      <td>0.177281</td>\n",
       "      <td>0.055360</td>\n",
       "      <td>0.583490</td>\n",
       "      <td>0.885604</td>\n",
       "    </tr>\n",
       "    <tr>\n",
       "      <td>2</td>\n",
       "      <td>NaN</td>\n",
       "      <td>2386</td>\n",
       "      <td>0.095494</td>\n",
       "      <td>0.065255</td>\n",
       "      <td>0.461730</td>\n",
       "      <td>0.809338</td>\n",
       "    </tr>\n",
       "    <tr>\n",
       "      <td>3</td>\n",
       "      <td>NaN</td>\n",
       "      <td>851</td>\n",
       "      <td>0.133801</td>\n",
       "      <td>0.056095</td>\n",
       "      <td>0.196636</td>\n",
       "      <td>1.747853</td>\n",
       "    </tr>\n",
       "    <tr>\n",
       "      <td>4</td>\n",
       "      <td>0.000000e+00</td>\n",
       "      <td>12</td>\n",
       "      <td>0.035496</td>\n",
       "      <td>0.009222</td>\n",
       "      <td>0.196636</td>\n",
       "      <td>1.747853</td>\n",
       "    </tr>\n",
       "    <tr>\n",
       "      <td>...</td>\n",
       "      <td>...</td>\n",
       "      <td>...</td>\n",
       "      <td>...</td>\n",
       "      <td>...</td>\n",
       "      <td>...</td>\n",
       "      <td>...</td>\n",
       "    </tr>\n",
       "    <tr>\n",
       "      <td>3068518</td>\n",
       "      <td>6.789474e+09</td>\n",
       "      <td>125</td>\n",
       "      <td>0.133801</td>\n",
       "      <td>0.074079</td>\n",
       "      <td>0.745783</td>\n",
       "      <td>1.024255</td>\n",
       "    </tr>\n",
       "    <tr>\n",
       "      <td>3068519</td>\n",
       "      <td>4.736842e+08</td>\n",
       "      <td>71</td>\n",
       "      <td>0.526785</td>\n",
       "      <td>0.459696</td>\n",
       "      <td>0.002967</td>\n",
       "      <td>1.961490</td>\n",
       "    </tr>\n",
       "    <tr>\n",
       "      <td>3068520</td>\n",
       "      <td>1.368421e+09</td>\n",
       "      <td>55</td>\n",
       "      <td>0.133801</td>\n",
       "      <td>0.045936</td>\n",
       "      <td>0.705550</td>\n",
       "      <td>0.994924</td>\n",
       "    </tr>\n",
       "    <tr>\n",
       "      <td>3068521</td>\n",
       "      <td>2.473684e+09</td>\n",
       "      <td>25</td>\n",
       "      <td>0.133801</td>\n",
       "      <td>0.086277</td>\n",
       "      <td>0.710759</td>\n",
       "      <td>0.017290</td>\n",
       "    </tr>\n",
       "    <tr>\n",
       "      <td>3068522</td>\n",
       "      <td>3.684211e+08</td>\n",
       "      <td>191</td>\n",
       "      <td>0.117633</td>\n",
       "      <td>0.079448</td>\n",
       "      <td>0.523364</td>\n",
       "      <td>0.938996</td>\n",
       "    </tr>\n",
       "  </tbody>\n",
       "</table>\n",
       "<p>3068523 rows × 6 columns</p>\n",
       "</div>"
      ],
      "text/plain": [
       "            timediffs  bids_per_auction  pbots_country  pbots_device  \\\n",
       "0                 NaN               368       0.089199      0.020161   \n",
       "1                 NaN             15452       0.177281      0.055360   \n",
       "2                 NaN              2386       0.095494      0.065255   \n",
       "3                 NaN               851       0.133801      0.056095   \n",
       "4        0.000000e+00                12       0.035496      0.009222   \n",
       "...               ...               ...            ...           ...   \n",
       "3068518  6.789474e+09               125       0.133801      0.074079   \n",
       "3068519  4.736842e+08                71       0.526785      0.459696   \n",
       "3068520  1.368421e+09                55       0.133801      0.045936   \n",
       "3068521  2.473684e+09                25       0.133801      0.086277   \n",
       "3068522  3.684211e+08               191       0.117633      0.079448   \n",
       "\n",
       "         ip_bids_ratio  auction_url_entropy  \n",
       "0             0.178624             1.463760  \n",
       "1             0.583490             0.885604  \n",
       "2             0.461730             0.809338  \n",
       "3             0.196636             1.747853  \n",
       "4             0.196636             1.747853  \n",
       "...                ...                  ...  \n",
       "3068518       0.745783             1.024255  \n",
       "3068519       0.002967             1.961490  \n",
       "3068520       0.705550             0.994924  \n",
       "3068521       0.710759             0.017290  \n",
       "3068522       0.523364             0.938996  \n",
       "\n",
       "[3068523 rows x 6 columns]"
      ]
     },
     "execution_count": 36,
     "metadata": {},
     "output_type": "execute_result"
    }
   ],
   "source": [
    "bid_edit=bid.iloc[:, 1:8]\n",
    "bid_edit"
   ]
  },
  {
   "cell_type": "markdown",
   "metadata": {},
   "source": [
    "### 2.2 Data visualization\n",
    "Check whether the new features could help us identify human and robots, plot the distribution of each feature of two different type of bidders."
   ]
  },
  {
   "cell_type": "code",
   "execution_count": 37,
   "metadata": {},
   "outputs": [],
   "source": [
    "bots = bid.loc[bid['outcome'] == 1]\n",
    "human = bid.loc[bid['outcome'] == 0]\n",
    "\n"
   ]
  },
  {
   "cell_type": "code",
   "execution_count": 38,
   "metadata": {},
   "outputs": [
    {
     "data": {
      "image/png": "[encoded data removed]",
      "text/plain": [
       "<Figure size 1008x864 with 6 Axes>"
      ]
     },
     "metadata": {
      "needs_background": "light"
     },
     "output_type": "display_data"
    }
   ],
   "source": [
    "fig, axes = plt.subplots(3, 2, figsize=(14, 12), sharex=False)\n",
    "sns.distplot(bots['bids_per_auction'], hist=False, kde=True,\n",
    "             bins=int(180/5), color='darkblue',\n",
    "             kde_kws={'linewidth': 1.5}, ax=axes[0, 0])\n",
    "sns.distplot(human['bids_per_auction'], hist=False, kde=True,\n",
    "             bins=int(180/5), color='darkred',\n",
    "             kde_kws={'linewidth': 1.5}, ax=axes[0, 0])\n",
    "\n",
    "sns.distplot(bots['pbots_country'], hist=False, kde=True,\n",
    "             bins=int(180/5), color='darkblue',\n",
    "             kde_kws={'linewidth': 1.5}, ax=axes[0, 1])\n",
    "sns.distplot(human['pbots_country'], hist=False, kde=True,\n",
    "             bins=int(180/5), color='darkred',\n",
    "             kde_kws={'linewidth': 1.5}, ax=axes[0, 1])\n",
    "\n",
    "sns.distplot(bots['pbots_device'], hist=False, kde=True,\n",
    "             bins=int(180/5), color='darkblue', label='bots',\n",
    "             kde_kws={'linewidth': 1.5}, ax=axes[1, 0])\n",
    "sns.distplot(human['pbots_device'], hist=False, kde=True,\n",
    "             bins=int(180/5), color='darkred', label='human',\n",
    "             kde_kws={'linewidth': 1.5}, ax=axes[1, 0])\n",
    "\n",
    "sns.distplot(bots['ip_bids_ratio'], hist=False, kde=True,\n",
    "             bins=int(180/5), color='darkblue',\n",
    "             kde_kws={'linewidth': 1.5}, ax=axes[1, 1])\n",
    "sns.distplot(human['ip_bids_ratio'], hist=False, kde=True,\n",
    "             bins=int(180/5), color='darkred',\n",
    "             kde_kws={'linewidth': 1.5}, ax=axes[1, 1])\n",
    "sns.distplot(bots['auction_url_entropy'], hist=False, kde=True,\n",
    "             bins=int(180/5), color='darkblue',\n",
    "             kde_kws={'linewidth': 1.5}, ax=axes[2, 0])\n",
    "sns.distplot(human['auction_url_entropy'], hist=False, kde=True,\n",
    "             bins=int(180/5), color='darkred',\n",
    "             kde_kws={'linewidth': 1.5}, ax=axes[2, 0])\n",
    "\n",
    "sns.distplot(bots['timediffs'], hist=False, kde=True,\n",
    "             bins=int(180/5), color='darkblue',\n",
    "             kde_kws={'linewidth': 1.5}, ax=axes[2, 1])\n",
    "sns.distplot(human['timediffs'], hist=False, kde=True,\n",
    "             bins=int(180/5), color='darkred',\n",
    "             kde_kws={'linewidth': 1.5}, ax=axes[2, 1])\n",
    "plt.legend(['bots', 'human'])\n",
    "plt.show()"
   ]
  },
  {
   "cell_type": "markdown",
   "metadata": {},
   "source": [
    "Since the variable timediff (time differ per user) showed a similar distribution between robots and human. It also has no clearly correlation with our outcome. Therefore, this variable may not be very helpful when we are fitting a model. In contrast, we may even have overfitting problems if we incorporate it in our models. Therefore, we will ignore the variable timediff during the modeling process."
   ]
  },
  {
   "cell_type": "code",
   "execution_count": 39,
   "metadata": {},
   "outputs": [
    {
     "data": {
      "text/plain": [
       "<matplotlib.axes._subplots.AxesSubplot at 0x17193880288>"
      ]
     },
     "execution_count": 39,
     "metadata": {},
     "output_type": "execute_result"
    },
    {
     "data": {
      "image/png": "[encoded data removed]",
      "text/plain": [
       "<Figure size 432x288 with 2 Axes>"
      ]
     },
     "metadata": {
      "needs_background": "light"
     },
     "output_type": "display_data"
    }
   ],
   "source": [
    "# Plot the correlation matrix for the numerical values\n",
    "corr_matrix = bid.corr()\n",
    "sns.heatmap(corr_matrix.corr(),\n",
    "            xticklabels=corr_matrix.corr().columns,\n",
    "            yticklabels=corr_matrix.corr().columns,\n",
    "            cmap=\"Blues\",\n",
    "            fmt='d')"
   ]
  },
  {
   "cell_type": "markdown",
   "metadata": {},
   "source": [
    "### Preprocessing Data"
   ]
  },
  {
   "cell_type": "markdown",
   "metadata": {},
   "source": [
    "### split test and train data"
   ]
  },
  {
   "cell_type": "code",
   "execution_count": 40,
   "metadata": {},
   "outputs": [],
   "source": [
    "bid_train, bid_test = train_test_split(bid, test_size=0.2)"
   ]
  },
  {
   "cell_type": "code",
   "execution_count": 41,
   "metadata": {},
   "outputs": [],
   "source": [
    "#Under sampling\n",
    "bots_train = bid_train.loc[bid_train.outcome == 1]\n",
    "human_train = bid_train.loc[bid_train.outcome == 0]\n",
    "human_sample = human_train.sample(n=len(bots_train))\n",
    "bid_train_balance = pd.concat([bots_train, human_sample])\n",
    "\n",
    "y_train = bid_train_balance['outcome']\n",
    "X_train = bid_train_balance.iloc[:, -5:]\n",
    "y_test = bid_test['outcome']\n",
    "X_test = bid_test.iloc[:, -5:]\n"
   ]
  },
  {
   "cell_type": "markdown",
   "metadata": {},
   "source": [
    "## Modelling"
   ]
  },
  {
   "cell_type": "code",
   "execution_count": 42,
   "metadata": {},
   "outputs": [
    {
     "data": {
      "text/plain": [
       "0.8656835878368844"
      ]
     },
     "execution_count": 42,
     "metadata": {},
     "output_type": "execute_result"
    }
   ],
   "source": [
    "#model accuracy\n",
    "len(bid[bid['outcome'] == 0])/(len(bid[bid['outcome'] == 0])+len(bid[bid['outcome'] == 1]))"
   ]
  },
  {
   "cell_type": "markdown",
   "metadata": {},
   "source": [
    "### 1. Decision Tree\n",
    "\n"
   ]
  },
  {
   "cell_type": "code",
   "execution_count": 43,
   "metadata": {},
   "outputs": [
    {
     "name": "stdout",
     "output_type": "stream",
     "text": [
      "{'criterion': 'gini', 'max_depth': 4, 'max_leaf_nodes': 13, 'min_samples_split': 2}\n"
     ]
    }
   ],
   "source": [
    "# hyperparameter tuning\n",
    "dt = tree.DecisionTreeClassifier()\n",
    "param_grid = {\n",
    "    'criterion': ['gini', 'entropy'],\n",
    "    'max_depth': range(3, 6),\n",
    "    'max_leaf_nodes': range(10, 15),\n",
    "    'min_samples_split': range(2, 6)\n",
    "}\n",
    "\n",
    "dt_cv = GridSearchCV(estimator=dt,\n",
    "                     param_grid=param_grid,\n",
    "                     cv=5)\n",
    "dt_cv.fit(X_train, y_train)\n",
    "print(dt_cv.best_params_)\n"
   ]
  },
  {
   "cell_type": "code",
   "execution_count": 44,
   "metadata": {},
   "outputs": [
    {
     "name": "stdout",
     "output_type": "stream",
     "text": [
      "--- 0.731046199798584 seconds ---\n"
     ]
    }
   ],
   "source": [
    "# fit the model\n",
    "# Decision Tree\n",
    "start_time = time.time()\n",
    "kwargs_regularize = dict(criterion='gini',\n",
    "                         max_depth=5,\n",
    "                         max_leaf_nodes=14,\n",
    "                         min_samples_split=2)\n",
    "dt = tree.DecisionTreeClassifier(**kwargs_regularize)\n",
    "dt.fit(X_train, y_train)\n",
    "\n",
    "dt_time = time.time() - start_time\n",
    "print(\"--- %s seconds ---\" % (time.time() - start_time))"
   ]
  },
  {
   "cell_type": "markdown",
   "metadata": {},
   "source": [
    "### Tree Visualisation"
   ]
  },
  {
   "cell_type": "code",
   "execution_count": 45,
   "metadata": {
    "scrolled": true
   },
   "outputs": [],
   "source": [
    "dot_data = StringIO()\n",
    "export_graphviz(dt, out_file=dot_data,\n",
    "                filled=True, rounded=True,\n",
    "                feature_names=X_train.columns.values,\n",
    "                class_names=['human', 'bot'],\n",
    "                special_characters=True)\n",
    "graph = pydotplus.graph_from_dot_data(dot_data.getvalue())\n"
   ]
  },
  {
   "cell_type": "code",
   "execution_count": 47,
   "metadata": {},
   "outputs": [
    {
     "data": {
      "text/plain": [
       "<pydotplus.graphviz.Dot at 0x17193e927c8>"
      ]
     },
     "execution_count": 47,
     "metadata": {},
     "output_type": "execute_result"
    }
   ],
   "source": [
    "graph"
   ]
  },
  {
   "cell_type": "code",
   "execution_count": 48,
   "metadata": {},
   "outputs": [
    {
     "name": "stdout",
     "output_type": "stream",
     "text": [
      "Feature importance of Decision Tree Model\n"
     ]
    },
    {
     "data": {
      "image/png": "[encoded data removed]",
      "text/plain": [
       "<Figure size 360x360 with 1 Axes>"
      ]
     },
     "metadata": {},
     "output_type": "display_data"
    }
   ],
   "source": [
    "# Check feature importance and display in bar plot.\n",
    "print('Feature importance of Decision Tree Model')\n",
    "plt.style.use('ggplot')\n",
    "fig = plt.figure(figsize=(5, 5))\n",
    "feat_importances = pd.Series(dt.feature_importances_, index=X_train.columns)\n",
    "feat_importances.nsmallest(5).plot(kind='barh', alpha=0.7)\n",
    "fig.savefig('dt_feature.png')"
   ]
  },
  {
   "cell_type": "markdown",
   "metadata": {},
   "source": [
    "### Evaluation Metric"
   ]
  },
  {
   "cell_type": "code",
   "execution_count": 49,
   "metadata": {},
   "outputs": [],
   "source": [
    "# predict\n",
    "y_dt_pred = dt.predict(X_test)"
   ]
  },
  {
   "cell_type": "code",
   "execution_count": 50,
   "metadata": {},
   "outputs": [
    {
     "data": {
      "text/plain": [
       "0.8393690779772041"
      ]
     },
     "execution_count": 50,
     "metadata": {},
     "output_type": "execute_result"
    }
   ],
   "source": [
    "#accuracy score\n",
    "from sklearn.metrics import accuracy_score\n",
    "accuracy_score(y_dt_pred, y_test)"
   ]
  },
  {
   "cell_type": "code",
   "execution_count": 51,
   "metadata": {},
   "outputs": [
    {
     "data": {
      "image/png": "[encoded data removed]",
      "text/plain": [
       "<Figure size 360x360 with 1 Axes>"
      ]
     },
     "metadata": {},
     "output_type": "display_data"
    }
   ],
   "source": [
    "# Plot ROC in one graph\n",
    "y_dt_score = dt.predict_proba(X_test)[:, 1]\n",
    "fpr_dt, tpr_dt, _dt = roc_curve(y_test, y_dt_score)\n",
    "roc_dt_auc = auc(fpr_dt, tpr_dt)\n",
    "\n",
    "fig = plt.figure(figsize=(5, 5))\n",
    "plt.plot(fpr_dt, tpr_dt, label='DT ROC curve (area = %0.2f)' % roc_dt_auc)\n",
    "plt.plot([0, 1], [0, 1], 'k--')\n",
    "plt.xlim([0.0, 1.0])\n",
    "plt.ylim([0.0, 1.005])\n",
    "plt.xlabel('False Positive Rate')\n",
    "plt.ylabel('True Positive Rate')\n",
    "plt.title('Receiver operating characteristic')\n",
    "plt.legend(loc=\"lower right\")\n",
    "plt.show()\n",
    "fig.savefig('roc_dt_auc.png')"
   ]
  },
  {
   "cell_type": "code",
   "execution_count": 52,
   "metadata": {},
   "outputs": [
    {
     "name": "stdout",
     "output_type": "stream",
     "text": [
      "Classification Report of Decision Tree Model\n",
      "              precision    recall  f1-score   support\n",
      "\n",
      "         0.0       0.97      0.84      0.90    531228\n",
      "         1.0       0.45      0.86      0.59     82477\n",
      "\n",
      "    accuracy                           0.84    613705\n",
      "   macro avg       0.71      0.85      0.75    613705\n",
      "weighted avg       0.90      0.84      0.86    613705\n",
      "\n"
     ]
    }
   ],
   "source": [
    "print('Classification Report of Decision Tree Model')\n",
    "print(classification_report(y_test, y_dt_pred))"
   ]
  },
  {
   "cell_type": "markdown",
   "metadata": {},
   "source": [
    "### Random Forest"
   ]
  },
  {
   "cell_type": "code",
   "execution_count": 56,
   "metadata": {},
   "outputs": [
    {
     "name": "stdout",
     "output_type": "stream",
     "text": [
      "{'max_depth': 5, 'max_features': 'sqrt', 'max_leaf_nodes': 11}\n"
     ]
    }
   ],
   "source": [
    "rf = RandomForestClassifier(n_estimators=50)\n",
    "param_grid = {\n",
    "    'max_depth': range(3, 6),\n",
    "    'max_leaf_nodes': range(8, 12),\n",
    "    'max_features': ['sqrt', 'auto', 'log2']\n",
    "}\n",
    "\n",
    "rf_cv = GridSearchCV(estimator=rf,\n",
    "                     param_grid=param_grid,\n",
    "                     cv=5)\n",
    "rf_cv.fit(X_train, y_train)\n",
    "print(rf_cv.best_params_)\n"
   ]
  },
  {
   "cell_type": "code",
   "execution_count": 57,
   "metadata": {},
   "outputs": [
    {
     "name": "stdout",
     "output_type": "stream",
     "text": [
      "--- 41.11504507064819 seconds ---\n"
     ]
    }
   ],
   "source": [
    "start_time = time.time()\n",
    "\n",
    "rf = RandomForestClassifier(n_estimators=100, max_depth=5,\n",
    "                            max_leaf_nodes=11, max_features='log2',\n",
    "                            bootstrap=True, oob_score=True)\n",
    "rf.fit(X_train, y_train)\n",
    "\n",
    "rf_time = time.time() - start_time\n",
    "print(\"--- %s seconds ---\" % (time.time() - start_time))"
   ]
  },
  {
   "cell_type": "code",
   "execution_count": 58,
   "metadata": {},
   "outputs": [
    {
     "name": "stdout",
     "output_type": "stream",
     "text": [
      "Feature importance of Random Forest Model\n"
     ]
    },
    {
     "data": {
      "image/png": "[encoded data removed]",
      "text/plain": [
       "<Figure size 360x360 with 1 Axes>"
      ]
     },
     "metadata": {},
     "output_type": "display_data"
    }
   ],
   "source": [
    "\n",
    "# Check feature importance and display in bar plot.\n",
    "print('Feature importance of Random Forest Model')\n",
    "plt.style.use('ggplot')\n",
    "fig = plt.figure(figsize=(5, 5))\n",
    "feat_importances = pd.Series(rf.feature_importances_, index=X_train.columns)\n",
    "feat_importances.nsmallest(5).plot(kind='barh', alpha=0.7)\n",
    "fig.savefig('rf_feature.png')"
   ]
  },
  {
   "cell_type": "code",
   "execution_count": 59,
   "metadata": {},
   "outputs": [
    {
     "data": {
      "text/plain": [
       "0.9219885775739158"
      ]
     },
     "execution_count": 59,
     "metadata": {},
     "output_type": "execute_result"
    }
   ],
   "source": [
    "y_rf_pred = rf.predict(X_test)\n",
    "accuracy_score(y_rf_pred, y_test)"
   ]
  },
  {
   "cell_type": "code",
   "execution_count": 60,
   "metadata": {},
   "outputs": [
    {
     "data": {
      "image/png": "[encoded data removed]",
      "text/plain": [
       "<Figure size 360x360 with 1 Axes>"
      ]
     },
     "metadata": {},
     "output_type": "display_data"
    }
   ],
   "source": [
    "# Plot ROC in one graph\n",
    "y_rf_score = rf.predict_proba(X_test)[:, 1]\n",
    "fpr_rf, tpr_rf, _rf = roc_curve(y_test, y_rf_score)\n",
    "roc_rf_auc = auc(fpr_rf, tpr_rf)\n",
    "\n",
    "plt.figure(figsize=(5, 5))\n",
    "plt.plot(fpr_rf, tpr_rf, label='RF ROC curve (area = %0.2f)' % roc_rf_auc)\n",
    "plt.plot([0, 1], [0, 1], 'k--')\n",
    "plt.xlim([0.0, 1.0])\n",
    "plt.ylim([0.0, 1.005])\n",
    "plt.xlabel('False Positive Rate')\n",
    "plt.ylabel('True Positive Rate')\n",
    "plt.title('Receiver operating characteristic')\n",
    "plt.legend(loc=\"lower right\")\n",
    "plt.show()\n",
    "fig.savefig('roc_rf_auc.png')"
   ]
  },
  {
   "cell_type": "code",
   "execution_count": 61,
   "metadata": {},
   "outputs": [
    {
     "name": "stdout",
     "output_type": "stream",
     "text": [
      "Classification Report of Random Forest Model\n",
      "              precision    recall  f1-score   support\n",
      "\n",
      "         0.0       0.98      0.93      0.95    531228\n",
      "         1.0       0.66      0.86      0.75     82477\n",
      "\n",
      "    accuracy                           0.92    613705\n",
      "   macro avg       0.82      0.90      0.85    613705\n",
      "weighted avg       0.93      0.92      0.93    613705\n",
      "\n"
     ]
    }
   ],
   "source": [
    "print('Classification Report of Random Forest Model')\n",
    "print(classification_report(y_test, y_rf_pred))"
   ]
  },
  {
   "cell_type": "markdown",
   "metadata": {},
   "source": [
    "### 3. Gradient Boosting\n"
   ]
  },
  {
   "cell_type": "code",
   "execution_count": 62,
   "metadata": {},
   "outputs": [
    {
     "name": "stdout",
     "output_type": "stream",
     "text": [
      "{'max_depth': 5, 'max_leaf_nodes': 10}\n"
     ]
    }
   ],
   "source": [
    "gb = GradientBoostingClassifier(n_estimators=10)\n",
    "param_grid = {\n",
    "    'max_depth': range(3, 6),\n",
    "    'max_leaf_nodes': range(8, 11)\n",
    "}\n",
    "\n",
    "gb_cv = GridSearchCV(estimator=gb,\n",
    "                     param_grid=param_grid,\n",
    "                     cv=5)\n",
    "gb_cv.fit(X_train, y_train)\n",
    "print(gb_cv.best_params_)"
   ]
  },
  {
   "cell_type": "code",
   "execution_count": 63,
   "metadata": {},
   "outputs": [
    {
     "name": "stdout",
     "output_type": "stream",
     "text": [
      "--- 45.57012987136841 seconds ---\n"
     ]
    }
   ],
   "source": [
    "start_time = time.time()\n",
    "\n",
    "gb = GradientBoostingClassifier(n_estimators=100, max_depth=5, max_features='sqrt',\n",
    "                                max_leaf_nodes=9)\n",
    "gb.fit(X_train, y_train)\n",
    "\n",
    "gb_time = time.time() - start_time\n",
    "print(\"--- %s seconds ---\" % (time.time() - start_time))"
   ]
  },
  {
   "cell_type": "code",
   "execution_count": 64,
   "metadata": {},
   "outputs": [
    {
     "name": "stdout",
     "output_type": "stream",
     "text": [
      "Feature importance of Gradient Boosting Model\n"
     ]
    },
    {
     "data": {
      "image/png": "[encoded data removed]",
      "text/plain": [
       "<Figure size 360x360 with 1 Axes>"
      ]
     },
     "metadata": {},
     "output_type": "display_data"
    }
   ],
   "source": [
    "# Check feature importance and display in bar plot.\n",
    "print('Feature importance of Gradient Boosting Model')\n",
    "plt.style.use('ggplot')\n",
    "fig = plt.figure(figsize=(5, 5))\n",
    "feat_importances = pd.Series(gb.feature_importances_, index=X_train.columns)\n",
    "feat_importances.nsmallest(5).plot(kind='barh', alpha=0.7)\n",
    "fig.savefig('gb_feature.png')"
   ]
  },
  {
   "cell_type": "code",
   "execution_count": 65,
   "metadata": {},
   "outputs": [
    {
     "data": {
      "text/plain": [
       "0.9766402424617691"
      ]
     },
     "execution_count": 65,
     "metadata": {},
     "output_type": "execute_result"
    }
   ],
   "source": [
    "y_gb_pred = gb.predict(X_test)\n",
    "accuracy_score(y_gb_pred, y_test)"
   ]
  },
  {
   "cell_type": "code",
   "execution_count": 66,
   "metadata": {},
   "outputs": [
    {
     "data": {
      "image/png": "[encoded data removed]",
      "text/plain": [
       "<Figure size 360x360 with 1 Axes>"
      ]
     },
     "metadata": {},
     "output_type": "display_data"
    }
   ],
   "source": [
    "# Plot ROC in one graph\n",
    "y_gb_score = gb.predict_proba(X_test)[:, 1]\n",
    "fpr_gb, tpr_gb, _gb = roc_curve(y_test, y_gb_score)\n",
    "roc_gb_auc = auc(fpr_gb, tpr_gb)\n",
    "\n",
    "plt.figure(figsize=(5, 5))\n",
    "plt.plot(fpr_gb, tpr_gb, label='GB ROC curve (area = %0.2f)' % roc_gb_auc)\n",
    "plt.plot([0, 1], [0, 1], 'k--')\n",
    "plt.xlim([0.0, 1.0])\n",
    "plt.ylim([0.0, 1.005])\n",
    "plt.xlabel('False Positive Rate')\n",
    "plt.ylabel('True Positive Rate')\n",
    "plt.title('Receiver operating characteristic')\n",
    "plt.legend(loc=\"lower right\")\n",
    "plt.show()\n",
    "fig.savefig('roc_gb_auc.png')"
   ]
  },
  {
   "cell_type": "code",
   "execution_count": 67,
   "metadata": {},
   "outputs": [
    {
     "name": "stdout",
     "output_type": "stream",
     "text": [
      "Classification Report of Gradient Boosting Model\n",
      "              precision    recall  f1-score   support\n",
      "\n",
      "         0.0       1.00      0.98      0.99    531228\n",
      "         1.0       0.86      0.98      0.92     82477\n",
      "\n",
      "    accuracy                           0.98    613705\n",
      "   macro avg       0.93      0.98      0.95    613705\n",
      "weighted avg       0.98      0.98      0.98    613705\n",
      "\n"
     ]
    }
   ],
   "source": [
    "print('Classification Report of Gradient Boosting Model')\n",
    "print(classification_report(y_test, y_gb_pred))"
   ]
  },
  {
   "cell_type": "markdown",
   "metadata": {},
   "source": [
    "#### Compare different models"
   ]
  },
  {
   "cell_type": "code",
   "execution_count": 68,
   "metadata": {},
   "outputs": [],
   "source": [
    "dt_metrics = [metrics.accuracy_score(y_test, y_dt_pred), metrics.precision_score(y_test, y_dt_pred),\n",
    "              metrics.recall_score(y_test, y_dt_pred), metrics.f1_score(\n",
    "                  y_test, y_dt_pred),\n",
    "              metrics.roc_auc_score(y_test, y_dt_pred), dt_time]\n",
    "rf_metrics = [metrics.accuracy_score(y_test, y_rf_pred), metrics.precision_score(y_test, y_rf_pred),\n",
    "              metrics.recall_score(y_test, y_rf_pred), metrics.f1_score(\n",
    "                  y_test, y_rf_pred),\n",
    "              metrics.roc_auc_score(y_test, y_rf_pred), rf_time]\n",
    "gb_metrics = [metrics.accuracy_score(y_test, y_gb_pred), metrics.precision_score(y_test, y_gb_pred),\n",
    "              metrics.recall_score(y_test, y_gb_pred), metrics.f1_score(\n",
    "                  y_test, y_gb_pred),\n",
    "              metrics.roc_auc_score(y_test, y_gb_pred), gb_time]"
   ]
  },
  {
   "cell_type": "code",
   "execution_count": 69,
   "metadata": {},
   "outputs": [
    {
     "data": {
      "image/png": "[encoded data removed]",
      "text/plain": [
       "<Figure size 720x576 with 1 Axes>"
      ]
     },
     "metadata": {},
     "output_type": "display_data"
    }
   ],
   "source": [
    "fig, ax = plt.subplots(figsize=(10, 8))\n",
    "index = np.arange(5)\n",
    "width = 0.2\n",
    "b1 = plt.bar(index, dt_metrics[0:5], width,\n",
    "             alpha=0.4, color='grey', label='decision tree')\n",
    "b2 = plt.bar(index+width, rf_metrics[0:5], width,\n",
    "             alpha=0.8, color='powderblue', label='random forest')\n",
    "b3 = plt.bar(index+2*width, gb_metrics[0:5], width,\n",
    "             alpha=0.8, color='pink', label='gradient boosting')\n",
    "plt.title('Model Comparison')\n",
    "plt.ylabel('score')\n",
    "plt.xticks(index+width, ('accuracy', 'precision', 'recall', 'F1', 'ROC AUC'))\n",
    "plt.legend(loc=8, ncol=3, mode=\"expand\", borderaxespad=0.)\n",
    "plt.show()\n",
    "fig.savefig('model_comparison.png')"
   ]
  },
  {
   "cell_type": "code",
   "execution_count": 70,
   "metadata": {},
   "outputs": [
    {
     "data": {
      "text/html": [
       "<div>\n",
       "<style scoped>\n",
       "    .dataframe tbody tr th:only-of-type {\n",
       "        vertical-align: middle;\n",
       "    }\n",
       "\n",
       "    .dataframe tbody tr th {\n",
       "        vertical-align: top;\n",
       "    }\n",
       "\n",
       "    .dataframe thead th {\n",
       "        text-align: right;\n",
       "    }\n",
       "</style>\n",
       "<table border=\"1\" class=\"dataframe\">\n",
       "  <thead>\n",
       "    <tr style=\"text-align: right;\">\n",
       "      <th></th>\n",
       "      <th>Decision Tree</th>\n",
       "      <th>Random Forest</th>\n",
       "      <th>Gradient Boosting</th>\n",
       "    </tr>\n",
       "  </thead>\n",
       "  <tbody>\n",
       "    <tr>\n",
       "      <td>Accuracy_score</td>\n",
       "      <td>0.839</td>\n",
       "      <td>0.922</td>\n",
       "      <td>0.977</td>\n",
       "    </tr>\n",
       "    <tr>\n",
       "      <td>Precision_score</td>\n",
       "      <td>0.449</td>\n",
       "      <td>0.662</td>\n",
       "      <td>0.862</td>\n",
       "    </tr>\n",
       "    <tr>\n",
       "      <td>Recall_Score</td>\n",
       "      <td>0.861</td>\n",
       "      <td>0.858</td>\n",
       "      <td>0.984</td>\n",
       "    </tr>\n",
       "    <tr>\n",
       "      <td>F1_score</td>\n",
       "      <td>0.590</td>\n",
       "      <td>0.747</td>\n",
       "      <td>0.919</td>\n",
       "    </tr>\n",
       "    <tr>\n",
       "      <td>ROC_AUC_score</td>\n",
       "      <td>0.848</td>\n",
       "      <td>0.895</td>\n",
       "      <td>0.980</td>\n",
       "    </tr>\n",
       "    <tr>\n",
       "      <td>Time(s)</td>\n",
       "      <td>0.731</td>\n",
       "      <td>41.115</td>\n",
       "      <td>45.570</td>\n",
       "    </tr>\n",
       "  </tbody>\n",
       "</table>\n",
       "</div>"
      ],
      "text/plain": [
       "                 Decision Tree  Random Forest  Gradient Boosting\n",
       "Accuracy_score           0.839          0.922              0.977\n",
       "Precision_score          0.449          0.662              0.862\n",
       "Recall_Score             0.861          0.858              0.984\n",
       "F1_score                 0.590          0.747              0.919\n",
       "ROC_AUC_score            0.848          0.895              0.980\n",
       "Time(s)                  0.731         41.115             45.570"
      ]
     },
     "execution_count": 70,
     "metadata": {},
     "output_type": "execute_result"
    }
   ],
   "source": [
    "label = [\"Accuracy_score\", \"Precision_score\",\n",
    "         \"Recall_Score\", \"F1_score\", \"ROC_AUC_score\", \"Time(s)\"]\n",
    "table = pd.DataFrame({'Decision Tree': dt_metrics,\n",
    "                      'Random Forest': rf_metrics, 'Gradient Boosting': gb_metrics})\n",
    "table = table.transpose()\n",
    "table.columns = label\n",
    "table.transpose().round(3)"
   ]
  },
  {
   "cell_type": "markdown",
   "metadata": {},
   "source": [
    "according to the results, we will go with gradient boosting, and we can conclude that auction url is a determinant of robots, than human."
   ]
  },
  {
   "cell_type": "code",
   "execution_count": null,
   "metadata": {},
   "outputs": [],
   "source": []
  }
 ],
 "metadata": {
  "kernelspec": {
   "display_name": "Python 3",
   "language": "python",
   "name": "python3"
  },
  "language_info": {
   "codemirror_mode": {
    "name": "ipython",
    "version": 3
   },
   "file_extension": ".py",
   "mimetype": "text/x-python",
   "name": "python",
   "nbconvert_exporter": "python",
   "pygments_lexer": "ipython3",
   "version": "3.7.4"
  }
 },
 "nbformat": 4,
 "nbformat_minor": 2
}
